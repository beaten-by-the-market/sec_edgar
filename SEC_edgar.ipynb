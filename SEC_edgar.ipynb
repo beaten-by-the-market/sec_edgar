{
  "cells": [
    {
      "cell_type": "markdown",
      "metadata": {
        "id": "view-in-github",
        "colab_type": "text"
      },
      "source": [
        "<a href=\"https://colab.research.google.com/github/jatoogunhyo/sec_edgar/blob/main/SEC_edgar.ipynb\" target=\"_parent\"><img src=\"https://colab.research.google.com/assets/colab-badge.svg\" alt=\"Open In Colab\"/></a>"
      ]
    },
    {
      "cell_type": "markdown",
      "source": [
        "# [EDGARTOOLS 사용안내](https://github.com/dgunning/edgartools)"
      ],
      "metadata": {
        "id": "g8m4vxSl_Dv-"
      }
    },
    {
      "cell_type": "markdown",
      "source": [
        "# 필요한 환경 설정"
      ],
      "metadata": {
        "id": "Yj_z38hIzsYp"
      }
    },
    {
      "cell_type": "code",
      "source": [
        "!pip install edgartools\n",
        "from edgar import *"
      ],
      "metadata": {
        "colab": {
          "base_uri": "https://localhost:8080/"
        },
        "id": "eU_hidus4w4K",
        "outputId": "d9157ebf-2574-4ad2-cc20-b9590e5a54dc"
      },
      "execution_count": 2,
      "outputs": [
        {
          "output_type": "stream",
          "name": "stdout",
          "text": [
            "Collecting edgartools\n",
            "  Downloading edgartools-3.7.0-py3-none-any.whl.metadata (25 kB)\n",
            "Requirement already satisfied: beautifulsoup4>=4.10.0 in /usr/local/lib/python3.10/dist-packages (from edgartools) (4.12.3)\n",
            "Requirement already satisfied: fastcore>=1.5.29 in /usr/local/lib/python3.10/dist-packages (from edgartools) (1.7.27)\n",
            "Requirement already satisfied: httpx>=0.25.0 in /usr/local/lib/python3.10/dist-packages (from edgartools) (0.28.1)\n",
            "Requirement already satisfied: humanize>=4.0.0 in /usr/local/lib/python3.10/dist-packages (from edgartools) (4.11.0)\n",
            "Requirement already satisfied: lxml>=4.4 in /usr/local/lib/python3.10/dist-packages (from edgartools) (5.3.0)\n",
            "Requirement already satisfied: nest-asyncio>=1.5.1 in /usr/local/lib/python3.10/dist-packages (from edgartools) (1.6.0)\n",
            "Requirement already satisfied: orjson>=3.6.0 in /usr/local/lib/python3.10/dist-packages (from edgartools) (3.10.12)\n",
            "Requirement already satisfied: pandas>=2.0.0 in /usr/local/lib/python3.10/dist-packages (from edgartools) (2.2.2)\n",
            "Requirement already satisfied: pyarrow>=14.0.0 in /usr/local/lib/python3.10/dist-packages (from edgartools) (17.0.0)\n",
            "Requirement already satisfied: pydantic>=2.0.0 in /usr/local/lib/python3.10/dist-packages (from edgartools) (2.10.3)\n",
            "Collecting rank-bm25>=0.2.1 (from edgartools)\n",
            "  Downloading rank_bm25-0.2.2-py3-none-any.whl.metadata (3.2 kB)\n",
            "Collecting rapidfuzz>=3.5.0 (from edgartools)\n",
            "  Downloading rapidfuzz-3.11.0-cp310-cp310-manylinux_2_17_x86_64.manylinux2014_x86_64.whl.metadata (11 kB)\n",
            "Requirement already satisfied: rich>=13.0.0 in /usr/local/lib/python3.10/dist-packages (from edgartools) (13.9.4)\n",
            "Collecting stamina>=24.2.0 (from edgartools)\n",
            "  Downloading stamina-24.3.0-py3-none-any.whl.metadata (5.5 kB)\n",
            "Requirement already satisfied: tabulate>=0.9.0 in /usr/local/lib/python3.10/dist-packages (from edgartools) (0.9.0)\n",
            "Collecting textdistance>=4.5.0 (from edgartools)\n",
            "  Downloading textdistance-4.6.3-py3-none-any.whl.metadata (18 kB)\n",
            "Requirement already satisfied: tqdm>=4.62.0 in /usr/local/lib/python3.10/dist-packages (from edgartools) (4.67.1)\n",
            "Collecting unidecode>=1.2.0 (from edgartools)\n",
            "  Downloading Unidecode-1.3.8-py3-none-any.whl.metadata (13 kB)\n",
            "Requirement already satisfied: soupsieve>1.2 in /usr/local/lib/python3.10/dist-packages (from beautifulsoup4>=4.10.0->edgartools) (2.6)\n",
            "Requirement already satisfied: packaging in /usr/local/lib/python3.10/dist-packages (from fastcore>=1.5.29->edgartools) (24.2)\n",
            "Requirement already satisfied: anyio in /usr/local/lib/python3.10/dist-packages (from httpx>=0.25.0->edgartools) (3.7.1)\n",
            "Requirement already satisfied: certifi in /usr/local/lib/python3.10/dist-packages (from httpx>=0.25.0->edgartools) (2024.12.14)\n",
            "Requirement already satisfied: httpcore==1.* in /usr/local/lib/python3.10/dist-packages (from httpx>=0.25.0->edgartools) (1.0.7)\n",
            "Requirement already satisfied: idna in /usr/local/lib/python3.10/dist-packages (from httpx>=0.25.0->edgartools) (3.10)\n",
            "Requirement already satisfied: h11<0.15,>=0.13 in /usr/local/lib/python3.10/dist-packages (from httpcore==1.*->httpx>=0.25.0->edgartools) (0.14.0)\n",
            "Requirement already satisfied: numpy>=1.22.4 in /usr/local/lib/python3.10/dist-packages (from pandas>=2.0.0->edgartools) (1.26.4)\n",
            "Requirement already satisfied: python-dateutil>=2.8.2 in /usr/local/lib/python3.10/dist-packages (from pandas>=2.0.0->edgartools) (2.8.2)\n",
            "Requirement already satisfied: pytz>=2020.1 in /usr/local/lib/python3.10/dist-packages (from pandas>=2.0.0->edgartools) (2024.2)\n",
            "Requirement already satisfied: tzdata>=2022.7 in /usr/local/lib/python3.10/dist-packages (from pandas>=2.0.0->edgartools) (2024.2)\n",
            "Requirement already satisfied: annotated-types>=0.6.0 in /usr/local/lib/python3.10/dist-packages (from pydantic>=2.0.0->edgartools) (0.7.0)\n",
            "Requirement already satisfied: pydantic-core==2.27.1 in /usr/local/lib/python3.10/dist-packages (from pydantic>=2.0.0->edgartools) (2.27.1)\n",
            "Requirement already satisfied: typing-extensions>=4.12.2 in /usr/local/lib/python3.10/dist-packages (from pydantic>=2.0.0->edgartools) (4.12.2)\n",
            "Requirement already satisfied: markdown-it-py>=2.2.0 in /usr/local/lib/python3.10/dist-packages (from rich>=13.0.0->edgartools) (3.0.0)\n",
            "Requirement already satisfied: pygments<3.0.0,>=2.13.0 in /usr/local/lib/python3.10/dist-packages (from rich>=13.0.0->edgartools) (2.18.0)\n",
            "Requirement already satisfied: tenacity in /usr/local/lib/python3.10/dist-packages (from stamina>=24.2.0->edgartools) (9.0.0)\n",
            "Requirement already satisfied: mdurl~=0.1 in /usr/local/lib/python3.10/dist-packages (from markdown-it-py>=2.2.0->rich>=13.0.0->edgartools) (0.1.2)\n",
            "Requirement already satisfied: six>=1.5 in /usr/local/lib/python3.10/dist-packages (from python-dateutil>=2.8.2->pandas>=2.0.0->edgartools) (1.17.0)\n",
            "Requirement already satisfied: sniffio>=1.1 in /usr/local/lib/python3.10/dist-packages (from anyio->httpx>=0.25.0->edgartools) (1.3.1)\n",
            "Requirement already satisfied: exceptiongroup in /usr/local/lib/python3.10/dist-packages (from anyio->httpx>=0.25.0->edgartools) (1.2.2)\n",
            "Downloading edgartools-3.7.0-py3-none-any.whl (1.1 MB)\n",
            "\u001b[2K   \u001b[90m━━━━━━━━━━━━━━━━━━━━━━━━━━━━━━━━━━━━━━━━\u001b[0m \u001b[32m1.1/1.1 MB\u001b[0m \u001b[31m51.7 MB/s\u001b[0m eta \u001b[36m0:00:00\u001b[0m\n",
            "\u001b[?25hDownloading rank_bm25-0.2.2-py3-none-any.whl (8.6 kB)\n",
            "Downloading rapidfuzz-3.11.0-cp310-cp310-manylinux_2_17_x86_64.manylinux2014_x86_64.whl (3.1 MB)\n",
            "\u001b[2K   \u001b[90m━━━━━━━━━━━━━━━━━━━━━━━━━━━━━━━━━━━━━━━━\u001b[0m \u001b[32m3.1/3.1 MB\u001b[0m \u001b[31m79.4 MB/s\u001b[0m eta \u001b[36m0:00:00\u001b[0m\n",
            "\u001b[?25hDownloading stamina-24.3.0-py3-none-any.whl (16 kB)\n",
            "Downloading textdistance-4.6.3-py3-none-any.whl (31 kB)\n",
            "Downloading Unidecode-1.3.8-py3-none-any.whl (235 kB)\n",
            "\u001b[2K   \u001b[90m━━━━━━━━━━━━━━━━━━━━━━━━━━━━━━━━━━━━━━━━\u001b[0m \u001b[32m235.5/235.5 kB\u001b[0m \u001b[31m17.0 MB/s\u001b[0m eta \u001b[36m0:00:00\u001b[0m\n",
            "\u001b[?25hInstalling collected packages: unidecode, textdistance, stamina, rapidfuzz, rank-bm25, edgartools\n",
            "Successfully installed edgartools-3.7.0 rank-bm25-0.2.2 rapidfuzz-3.11.0 stamina-24.3.0 textdistance-4.6.3 unidecode-1.3.8\n"
          ]
        }
      ]
    },
    {
      "cell_type": "markdown",
      "source": [
        "# SEC 서식\n",
        "\n",
        "| 서식 유형                | 호출 코드 | 서식명                | 설명                                                                 |\n",
        "|--------------------------|-----------|-----------------------|----------------------------------------------------------------------|\n",
        "| **재무 보고서**          | 10-K      | 연례 보고서           | 기업의 연간 재무 상태와 운영 성과를 상세히 보고하는 문서입니다.         |\n",
        "|                          | 10-Q      | 분기 보고서           | 기업의 분기별 재무 상태와 운영 성과를 보고하는 문서입니다.             |\n",
        "|                          | 20-F      | Form 20-F            | 외국 기업이 SEC에 제출하는 연례 보고서입니다.                         |\n",
        "|                          | 40-F      | Form 40-F            | 캐나다 기업이 SEC에 제출하는 연례 보고서입니다.                       |\n",
        "| **중요 사건 보고서**      | 8-K       | 현재 보고서           | 기업의 중요한 사건이나 변경 사항을 즉시 보고하는 문서입니다.          |\n",
        "| **소유권 및 투자 보고서** | SC 13D    | Schedule 13D         | 5% 이상 주식을 보유한 투자자가 제출하는 문서로, 보유 목적과 계획을 상세히 기술합니다. |\n",
        "|                          | SC 13G    | Schedule 13G         | 5% 이상 주식을 보유한 수동적 투자자가 제출하는 간소화된 보고서입니다. |\n",
        "|                          | 13F-HR    | Form 13F             | 기관투자자가 보유한 주식 목록을 분기별로 보고하는 문서입니다.         |\n",
        "| **내부자 거래 보고서**    | 3         | Form 3               | 기업의 임원, 이사, 또는 주요 주주가 된 개인이 자신의 소유권을 처음으로 보고하는 문서입니다. |\n",
        "|                          | 4         | Form 4               | 기업 내부자의 주식 거래를 보고하는 문서입니다.                       |\n",
        "|                          | 5         | Form 5               | 보고되지 않은 내부자 거래를 연간으로 보고하는 문서입니다.             |\n",
        "| **증권 등록**            | S-1       | Form S-1             | 기업이 IPO를 통해 주식을 공개적으로 발행할 때 사용하는 등록 문서입니다. |\n",
        "|                          | S-3       | Form S-3             | 이미 상장된 기업이 추가 증권을 발행할 때 사용하는 간소화된 등록 문서입니다. |\n",
        "|                          | S-4       | Form S-4             | 기업 합병이나 인수 시 사용하는 등록 문서입니다.                       |\n",
        "|                          | S-8       | Form S-8             | 직원 스톡 옵션 계획 등을 위해 증권을 등록할 때 사용하는 문서입니다.   |\n",
        "|                          | F-1       | Form F-1             | 외국 기업이 미국에서 증권을 발행할 때 사용하는 등록 문서입니다.       |\n",
        "|                          | F-3       | Form F-3             | 외국 상장 기업이 추가 증권을 발행할 때 사용하는 간소화된 등록 문서입니다. |\n",
        "|                          | F-4       | Form F-4             | 외국 기업의 합병이나 인수 시 사용하는 등록 문서입니다.               |\n",
        "|                          | F-6       | Form F-6             | 미국 주식 예탁 증서(ADR)를 등록할 때 사용하는 문서입니다.             |\n",
        "| **기타 등록 및 공시**     | D         | Form D               | 증권의 면제를 신청할 때 사용하는 문서로, 주로 사모펀드에서 사용됩니다. |\n",
        "|                          | 144       | Form 144             | 제한된 증권의 매각을 계획할 때 사용하는 통지서입니다.                 |\n",
        "|                          | EFFECT    | Notice of Effectiveness | 증권 등록이 SEC에 의해 효력을 얻었음을 알리는 통지서입니다.        |\n",
        "| **크라우드펀딩 보고서**   | C         | Form C               | 크라우드펀딩을 통해 자금을 모집하는 기업이 사용하는 문서입니다.       |\n",
        "|                          | C-U       | Form C-U             | 크라우드펀딩 진행 상황을 업데이트하는 문서입니다.                     |\n",
        "|                          | C-AR      | Form C-AR            | 크라우드펀딩 완료 후 연례 보고서입니다.                              |\n",
        "|                          | C-TR      | Form C-TR            | 크라우드펀딩 종료 보고서입니다.                                      |\n",
        "| **포트폴리오 보고서**     | NPORT-P   | Form NPORT-P         | 투자 회사의 월간 포트폴리오 보고서입니다.                           |\n",
        "| **기타**                 | MA-I      | Form MA-I            | Municipal Advisor의 초기 등록 시 사용하는 문서입니다.               |\n"
      ],
      "metadata": {
        "id": "EpifHBz3GiUC"
      }
    },
    {
      "cell_type": "markdown",
      "source": [
        "# 서식별 문서 확인하기"
      ],
      "metadata": {
        "id": "hszPu_IiIGxW"
      }
    },
    {
      "cell_type": "code",
      "source": [
        "# SEC API를 사용하려면 본인의 이메일을 전송해야함\n",
        "set_identity(\"JaeKwang jaekwang.jung@krx.co.kr\")\n",
        "\n",
        "# 서식명, 연도를 사용해서 서식 불러오기\n",
        "filings = get_filings(form=['SC 13D'], year=2024)\n",
        "filings"
      ],
      "metadata": {
        "colab": {
          "base_uri": "https://localhost:8080/",
          "height": 1000
        },
        "id": "cNfnslwj5qhy",
        "outputId": "31fa7bb6-0816-4806-f9df-4a8b3e011b56"
      },
      "execution_count": 20,
      "outputs": [
        {
          "output_type": "display_data",
          "data": {
            "text/plain": [
              "<IPython.core.display.HTML object>"
            ],
            "text/html": [
              "\n",
              "<style>\n",
              "    /* Turns off some styling */\n",
              "    progress {\n",
              "        /* gets rid of default border in Firefox and Opera. */\n",
              "        border: none;\n",
              "        /* Needs to be in here for Safari polyfill so background images work as expected. */\n",
              "        background-size: auto;\n",
              "    }\n",
              "    progress:not([value]), progress:not([value])::-webkit-progress-bar {\n",
              "        background: repeating-linear-gradient(45deg, #7e7e7e, #7e7e7e 10px, #5c5c5c 10px, #5c5c5c 20px);\n",
              "    }\n",
              "    .progress-bar-interrupted, .progress-bar-interrupted::-webkit-progress-bar {\n",
              "        background: #F44336;\n",
              "    }\n",
              "</style>\n"
            ]
          },
          "metadata": {}
        },
        {
          "output_type": "display_data",
          "data": {
            "text/plain": [
              "<IPython.core.display.HTML object>"
            ],
            "text/html": []
          },
          "metadata": {}
        },
        {
          "output_type": "display_data",
          "data": {
            "text/plain": [],
            "text/html": [
              "<pre style=\"white-space:pre;overflow-x:auto;line-height:normal;font-family:Menlo,'DejaVu Sans Mono',consolas,'Courier New',monospace\"></pre>\n"
            ]
          },
          "metadata": {}
        },
        {
          "output_type": "execute_result",
          "data": {
            "text/plain": [
              "\u001b[1;38;5;245m╭─\u001b[0m\u001b[1;38;5;245m─────────────────────────────────────────────────\u001b[0m\u001b[1;38;5;245m SEC Filings \u001b[0m\u001b[1;38;5;245m─────────────────────────────────────────────────\u001b[0m\u001b[1;38;5;245m─╮\u001b[0m\n",
              "\u001b[1;38;5;245m│\u001b[0m                                                                                                                 \u001b[1;38;5;245m│\u001b[0m\n",
              "\u001b[1;38;5;245m│\u001b[0m   \u001b[1m \u001b[0m\u001b[1mForm   \u001b[0m\u001b[1m \u001b[0m \u001b[1m \u001b[0m\u001b[1m       CIK\u001b[0m\u001b[1m \u001b[0m \u001b[1m \u001b[0m\u001b[1mTicker\u001b[0m\u001b[1m \u001b[0m \u001b[1m \u001b[0m\u001b[1mCompany                               \u001b[0m\u001b[1m \u001b[0m \u001b[1m \u001b[0m\u001b[1mFiling Date\u001b[0m\u001b[1m \u001b[0m \u001b[1m \u001b[0m\u001b[1mAccession Number   \u001b[0m\u001b[1m \u001b[0m  \u001b[1;38;5;245m│\u001b[0m\n",
              "\u001b[1;38;5;245m│\u001b[0m  ─────────────────────────────────────────────────────────────────────────────────────────────────────────────  \u001b[1;38;5;245m│\u001b[0m\n",
              "\u001b[1;38;5;245m│\u001b[0m    SC       \u001b[2m \u001b[0m\u001b[2m    949961\u001b[0m\u001b[2m \u001b[0m \u001b[33m \u001b[0m\u001b[33mIOR   \u001b[0m\u001b[33m \u001b[0m \u001b[1;32m \u001b[0m\u001b[1;32m13D/A INCOME OPPORTUNITY REALTY INVES…\u001b[0m\u001b[1;32m \u001b[0m  2024-12-31   \u001b[2m \u001b[0m\u001b[2m0001839882-24-0482…\u001b[0m\u001b[2m \u001b[0m  \u001b[1;38;5;245m│\u001b[0m\n",
              "\u001b[1;38;5;245m│\u001b[0m    13D/A    \u001b[2m            \u001b[0m \u001b[33m        \u001b[0m \u001b[1;32m                                        \u001b[0m               \u001b[2m                     \u001b[0m  \u001b[1;38;5;245m│\u001b[0m\n",
              "\u001b[1;38;5;245m│\u001b[0m   \u001b[1m \u001b[0m\u001b[1mSC     \u001b[0m\u001b[1m \u001b[0m \u001b[1;2m \u001b[0m\u001b[1;2m   1376139\u001b[0m\u001b[1;2m \u001b[0m \u001b[1;33m \u001b[0m\u001b[1;33mCVI   \u001b[0m\u001b[1;33m \u001b[0m \u001b[1;32m \u001b[0m\u001b[1;32m13D/A CVR ENERGY INC                  \u001b[0m\u001b[1;32m \u001b[0m \u001b[1m \u001b[0m\u001b[1m2024-12-18 \u001b[0m\u001b[1m \u001b[0m \u001b[1;2m \u001b[0m\u001b[1;2m0001104659-24-1296…\u001b[0m\u001b[1;2m \u001b[0m  \u001b[1;38;5;245m│\u001b[0m\n",
              "\u001b[1;38;5;245m│\u001b[0m   \u001b[1m \u001b[0m\u001b[1m13D/A  \u001b[0m\u001b[1m \u001b[0m \u001b[1;2m            \u001b[0m \u001b[1;33m        \u001b[0m \u001b[1;32m                                        \u001b[0m \u001b[1m             \u001b[0m \u001b[1;2m                     \u001b[0m  \u001b[1;38;5;245m│\u001b[0m\n",
              "\u001b[1;38;5;245m│\u001b[0m    SC 13D   \u001b[2m \u001b[0m\u001b[2m   2000230\u001b[0m\u001b[2m \u001b[0m \u001b[33m \u001b[0m\u001b[33mBRIA  \u001b[0m\u001b[33m \u001b[0m \u001b[1;32m \u001b[0m\u001b[1;32m13D BrilliA Inc                       \u001b[0m\u001b[1;32m \u001b[0m  2024-12-17   \u001b[2m \u001b[0m\u001b[2m0001213900-24-1094…\u001b[0m\u001b[2m \u001b[0m  \u001b[1;38;5;245m│\u001b[0m\n",
              "\u001b[1;38;5;245m│\u001b[0m   \u001b[1m \u001b[0m\u001b[1mSC 13D \u001b[0m\u001b[1m \u001b[0m \u001b[1;2m \u001b[0m\u001b[1;2m   2048799\u001b[0m\u001b[1;2m \u001b[0m \u001b[1;33m \u001b[0m\u001b[1;33m      \u001b[0m\u001b[1;33m \u001b[0m \u001b[1;32m \u001b[0m\u001b[1;32m13D Hartanto Kendrew                  \u001b[0m\u001b[1;32m \u001b[0m \u001b[1m \u001b[0m\u001b[1m2024-12-17 \u001b[0m\u001b[1m \u001b[0m \u001b[1;2m \u001b[0m\u001b[1;2m0001213900-24-1094…\u001b[0m\u001b[1;2m \u001b[0m  \u001b[1;38;5;245m│\u001b[0m\n",
              "\u001b[1;38;5;245m│\u001b[0m    SC 13D   \u001b[2m \u001b[0m\u001b[2m   1787423\u001b[0m\u001b[2m \u001b[0m \u001b[33m \u001b[0m\u001b[33m      \u001b[0m\u001b[33m \u001b[0m \u001b[1;32m \u001b[0m\u001b[1;32m13D Madryn Asset Management, LP       \u001b[0m\u001b[1;32m \u001b[0m  2024-12-17   \u001b[2m \u001b[0m\u001b[2m0001193125-24-2806…\u001b[0m\u001b[2m \u001b[0m  \u001b[1;38;5;245m│\u001b[0m\n",
              "\u001b[1;38;5;245m│\u001b[0m   \u001b[1m \u001b[0m\u001b[1mSC 13D \u001b[0m\u001b[1m \u001b[0m \u001b[1;2m \u001b[0m\u001b[1;2m    789933\u001b[0m\u001b[1;2m \u001b[0m \u001b[1;33m \u001b[0m\u001b[1;33mNC    \u001b[0m\u001b[1;33m \u001b[0m \u001b[1;32m \u001b[0m\u001b[1;32m13D NACCO INDUSTRIES INC              \u001b[0m\u001b[1;32m \u001b[0m \u001b[1m \u001b[0m\u001b[1m2024-12-17 \u001b[0m\u001b[1m \u001b[0m \u001b[1;2m \u001b[0m\u001b[1;2m0001193125-24-2804…\u001b[0m\u001b[1;2m \u001b[0m  \u001b[1;38;5;245m│\u001b[0m\n",
              "\u001b[1;38;5;245m│\u001b[0m    SC 13D   \u001b[2m \u001b[0m\u001b[2m   1227636\u001b[0m\u001b[2m \u001b[0m \u001b[33m \u001b[0m\u001b[33mSTIM  \u001b[0m\u001b[33m \u001b[0m \u001b[1;32m \u001b[0m\u001b[1;32m13D Neuronetics, Inc.                 \u001b[0m\u001b[1;32m \u001b[0m  2024-12-17   \u001b[2m \u001b[0m\u001b[2m0001193125-24-2806…\u001b[0m\u001b[2m \u001b[0m  \u001b[1;38;5;245m│\u001b[0m\n",
              "\u001b[1;38;5;245m│\u001b[0m   \u001b[1m \u001b[0m\u001b[1mSC 13D \u001b[0m\u001b[1m \u001b[0m \u001b[1;2m \u001b[0m\u001b[1;2m    904532\u001b[0m\u001b[1;2m \u001b[0m \u001b[1;33m \u001b[0m\u001b[1;33m      \u001b[0m\u001b[1;33m \u001b[0m \u001b[1;32m \u001b[0m\u001b[1;32m13D RANKIN ALFRED M ET AL             \u001b[0m\u001b[1;32m \u001b[0m \u001b[1m \u001b[0m\u001b[1m2024-12-17 \u001b[0m\u001b[1m \u001b[0m \u001b[1;2m \u001b[0m\u001b[1;2m0001193125-24-2804…\u001b[0m\u001b[1;2m \u001b[0m  \u001b[1;38;5;245m│\u001b[0m\n",
              "\u001b[1;38;5;245m│\u001b[0m    SC       \u001b[2m \u001b[0m\u001b[2m   1659494\u001b[0m\u001b[2m \u001b[0m \u001b[33m \u001b[0m\u001b[33mCOE   \u001b[0m\u001b[33m \u001b[0m \u001b[1;32m \u001b[0m\u001b[1;32m13D/A 51Talk Online Education Group   \u001b[0m\u001b[1;32m \u001b[0m  2024-12-17   \u001b[2m \u001b[0m\u001b[2m0001104659-24-1293…\u001b[0m\u001b[2m \u001b[0m  \u001b[1;38;5;245m│\u001b[0m\n",
              "\u001b[1;38;5;245m│\u001b[0m    13D/A    \u001b[2m            \u001b[0m \u001b[33m        \u001b[0m \u001b[1;32m                                        \u001b[0m               \u001b[2m                     \u001b[0m  \u001b[1;38;5;245m│\u001b[0m\n",
              "\u001b[1;38;5;245m│\u001b[0m   \u001b[1m \u001b[0m\u001b[1mSC     \u001b[0m\u001b[1m \u001b[0m \u001b[1;2m \u001b[0m\u001b[1;2m   1034196\u001b[0m\u001b[1;2m \u001b[0m \u001b[1;33m \u001b[0m\u001b[1;33m      \u001b[0m\u001b[1;33m \u001b[0m \u001b[1;32m \u001b[0m\u001b[1;32m13D/A ADVENT INTERNATIONAL, L.P.      \u001b[0m\u001b[1;32m \u001b[0m \u001b[1m \u001b[0m\u001b[1m2024-12-17 \u001b[0m\u001b[1m \u001b[0m \u001b[1;2m \u001b[0m\u001b[1;2m0001193125-24-2805…\u001b[0m\u001b[1;2m \u001b[0m  \u001b[1;38;5;245m│\u001b[0m\n",
              "\u001b[1;38;5;245m│\u001b[0m   \u001b[1m \u001b[0m\u001b[1m13D/A  \u001b[0m\u001b[1m \u001b[0m \u001b[1;2m            \u001b[0m \u001b[1;33m        \u001b[0m \u001b[1;32m                                        \u001b[0m \u001b[1m             \u001b[0m \u001b[1;2m                     \u001b[0m  \u001b[1;38;5;245m│\u001b[0m\n",
              "\u001b[1;38;5;245m│\u001b[0m    SC       \u001b[2m \u001b[0m\u001b[2m   2011498\u001b[0m\u001b[2m \u001b[0m \u001b[33m \u001b[0m\u001b[33m      \u001b[0m\u001b[33m \u001b[0m \u001b[1;32m \u001b[0m\u001b[1;32m13D/A AGL Private Credit Income Fund  \u001b[0m\u001b[1;32m \u001b[0m  2024-12-17   \u001b[2m \u001b[0m\u001b[2m0001011438-24-0007…\u001b[0m\u001b[2m \u001b[0m  \u001b[1;38;5;245m│\u001b[0m\n",
              "\u001b[1;38;5;245m│\u001b[0m    13D/A    \u001b[2m            \u001b[0m \u001b[33m        \u001b[0m \u001b[1;32m                                        \u001b[0m               \u001b[2m                     \u001b[0m  \u001b[1;38;5;245m│\u001b[0m\n",
              "\u001b[1;38;5;245m│\u001b[0m   \u001b[1m \u001b[0m\u001b[1mSC     \u001b[0m\u001b[1m \u001b[0m \u001b[1;2m \u001b[0m\u001b[1;2m    946644\u001b[0m\u001b[1;2m \u001b[0m \u001b[1;33m \u001b[0m\u001b[1;33mAIM   \u001b[0m\u001b[1;33m \u001b[0m \u001b[1;32m \u001b[0m\u001b[1;32m13D/A AIM ImmunoTech Inc.             \u001b[0m\u001b[1;32m \u001b[0m \u001b[1m \u001b[0m\u001b[1m2024-12-17 \u001b[0m\u001b[1m \u001b[0m \u001b[1;2m \u001b[0m\u001b[1;2m0001193125-24-2804…\u001b[0m\u001b[1;2m \u001b[0m  \u001b[1;38;5;245m│\u001b[0m\n",
              "\u001b[1;38;5;245m│\u001b[0m   \u001b[1m \u001b[0m\u001b[1m13D/A  \u001b[0m\u001b[1m \u001b[0m \u001b[1;2m            \u001b[0m \u001b[1;33m        \u001b[0m \u001b[1;32m                                        \u001b[0m \u001b[1m             \u001b[0m \u001b[1;2m                     \u001b[0m  \u001b[1;38;5;245m│\u001b[0m\n",
              "\u001b[1;38;5;245m│\u001b[0m    SC       \u001b[2m \u001b[0m\u001b[2m   1815849\u001b[0m\u001b[2m \u001b[0m \u001b[33m \u001b[0m\u001b[33mATIP  \u001b[0m\u001b[33m \u001b[0m \u001b[1;32m \u001b[0m\u001b[1;32m13D/A ATI Physical Therapy, Inc.      \u001b[0m\u001b[1;32m \u001b[0m  2024-12-17   \u001b[2m \u001b[0m\u001b[2m0001193125-24-2805…\u001b[0m\u001b[2m \u001b[0m  \u001b[1;38;5;245m│\u001b[0m\n",
              "\u001b[1;38;5;245m│\u001b[0m    13D/A    \u001b[2m            \u001b[0m \u001b[33m        \u001b[0m \u001b[1;32m                                        \u001b[0m               \u001b[2m                     \u001b[0m  \u001b[1;38;5;245m│\u001b[0m\n",
              "\u001b[1;38;5;245m│\u001b[0m   \u001b[1m \u001b[0m\u001b[1mSC     \u001b[0m\u001b[1m \u001b[0m \u001b[1;2m \u001b[0m\u001b[1;2m   1362558\u001b[0m\u001b[1;2m \u001b[0m \u001b[1;33m \u001b[0m\u001b[1;33m      \u001b[0m\u001b[1;33m \u001b[0m \u001b[1;32m \u001b[0m\u001b[1;32m13D/A Abu Dhabi Investment Authority  \u001b[0m\u001b[1;32m \u001b[0m \u001b[1m \u001b[0m\u001b[1m2024-12-17 \u001b[0m\u001b[1m \u001b[0m \u001b[1;2m \u001b[0m\u001b[1;2m0001011438-24-0007…\u001b[0m\u001b[1;2m \u001b[0m  \u001b[1;38;5;245m│\u001b[0m\n",
              "\u001b[1;38;5;245m│\u001b[0m   \u001b[1m \u001b[0m\u001b[1m13D/A  \u001b[0m\u001b[1m \u001b[0m \u001b[1;2m            \u001b[0m \u001b[1;33m        \u001b[0m \u001b[1;32m                                        \u001b[0m \u001b[1m             \u001b[0m \u001b[1;2m                     \u001b[0m  \u001b[1;38;5;245m│\u001b[0m\n",
              "\u001b[1;38;5;245m│\u001b[0m    SC       \u001b[2m \u001b[0m\u001b[2m   1724521\u001b[0m\u001b[2m \u001b[0m \u001b[33m \u001b[0m\u001b[33mRCUS  \u001b[0m\u001b[33m \u001b[0m \u001b[1;32m \u001b[0m\u001b[1;32m13D/A Arcus Biosciences, Inc.         \u001b[0m\u001b[1;32m \u001b[0m  2024-12-17   \u001b[2m \u001b[0m\u001b[2m0001193125-24-2806…\u001b[0m\u001b[2m \u001b[0m  \u001b[1;38;5;245m│\u001b[0m\n",
              "\u001b[1;38;5;245m│\u001b[0m    13D/A    \u001b[2m            \u001b[0m \u001b[33m        \u001b[0m \u001b[1;32m                                        \u001b[0m               \u001b[2m                     \u001b[0m  \u001b[1;38;5;245m│\u001b[0m\n",
              "\u001b[1;38;5;245m│\u001b[0m   \u001b[1m \u001b[0m\u001b[1mSC     \u001b[0m\u001b[1m \u001b[0m \u001b[1;2m \u001b[0m\u001b[1;2m   1263508\u001b[0m\u001b[1;2m \u001b[0m \u001b[1;33m \u001b[0m\u001b[1;33m      \u001b[0m\u001b[1;33m \u001b[0m \u001b[1;32m \u001b[0m\u001b[1;32m13D/A BAKER BROS. ADVISORS LP         \u001b[0m\u001b[1;32m \u001b[0m \u001b[1m \u001b[0m\u001b[1m2024-12-17 \u001b[0m\u001b[1m \u001b[0m \u001b[1;2m \u001b[0m\u001b[1;2m0001104659-24-1294…\u001b[0m\u001b[1;2m \u001b[0m  \u001b[1;38;5;245m│\u001b[0m\n",
              "\u001b[1;38;5;245m│\u001b[0m   \u001b[1m \u001b[0m\u001b[1m13D/A  \u001b[0m\u001b[1m \u001b[0m \u001b[1;2m            \u001b[0m \u001b[1;33m        \u001b[0m \u001b[1;32m                                        \u001b[0m \u001b[1m             \u001b[0m \u001b[1;2m                     \u001b[0m  \u001b[1;38;5;245m│\u001b[0m\n",
              "\u001b[1;38;5;245m│\u001b[0m    SC       \u001b[2m \u001b[0m\u001b[2m   1818893\u001b[0m\u001b[2m \u001b[0m \u001b[33m \u001b[0m\u001b[33m      \u001b[0m\u001b[33m \u001b[0m \u001b[1;32m \u001b[0m\u001b[1;32m13D/A BCLS II Investco, LP            \u001b[0m\u001b[1;32m \u001b[0m  2024-12-17   \u001b[2m \u001b[0m\u001b[2m0001193125-24-2805…\u001b[0m\u001b[2m \u001b[0m  \u001b[1;38;5;245m│\u001b[0m\n",
              "\u001b[1;38;5;245m│\u001b[0m    13D/A    \u001b[2m            \u001b[0m \u001b[33m        \u001b[0m \u001b[1;32m                                        \u001b[0m               \u001b[2m                     \u001b[0m  \u001b[1;38;5;245m│\u001b[0m\n",
              "\u001b[1;38;5;245m│\u001b[0m   \u001b[1m \u001b[0m\u001b[1mSC     \u001b[0m\u001b[1m \u001b[0m \u001b[1;2m \u001b[0m\u001b[1;2m   1761612\u001b[0m\u001b[1;2m \u001b[0m \u001b[1;33m \u001b[0m\u001b[1;33mBCYC  \u001b[0m\u001b[1;33m \u001b[0m \u001b[1;32m \u001b[0m\u001b[1;32m13D/A BICYCLE THERAPEUTICS PLC        \u001b[0m\u001b[1;32m \u001b[0m \u001b[1m \u001b[0m\u001b[1m2024-12-17 \u001b[0m\u001b[1m \u001b[0m \u001b[1;2m \u001b[0m\u001b[1;2m0001104659-24-1294…\u001b[0m\u001b[1;2m \u001b[0m  \u001b[1;38;5;245m│\u001b[0m\n",
              "\u001b[1;38;5;245m│\u001b[0m   \u001b[1m \u001b[0m\u001b[1m13D/A  \u001b[0m\u001b[1m \u001b[0m \u001b[1;2m            \u001b[0m \u001b[1;33m        \u001b[0m \u001b[1;32m                                        \u001b[0m \u001b[1m             \u001b[0m \u001b[1;2m                     \u001b[0m  \u001b[1;38;5;245m│\u001b[0m\n",
              "\u001b[1;38;5;245m│\u001b[0m    SC       \u001b[2m \u001b[0m\u001b[2m   1835856\u001b[0m\u001b[2m \u001b[0m \u001b[33m \u001b[0m\u001b[33mAURC  \u001b[0m\u001b[33m \u001b[0m \u001b[1;32m \u001b[0m\u001b[1;32m13D/A Better Home & Finance Holding Co\u001b[0m\u001b[1;32m \u001b[0m  2024-12-17   \u001b[2m \u001b[0m\u001b[2m0001104659-24-1295…\u001b[0m\u001b[2m \u001b[0m  \u001b[1;38;5;245m│\u001b[0m\n",
              "\u001b[1;38;5;245m│\u001b[0m    13D/A    \u001b[2m            \u001b[0m \u001b[33m        \u001b[0m \u001b[1;32m                                        \u001b[0m               \u001b[2m                     \u001b[0m  \u001b[1;38;5;245m│\u001b[0m\n",
              "\u001b[1;38;5;245m│\u001b[0m   \u001b[1m \u001b[0m\u001b[1mSC     \u001b[0m\u001b[1m \u001b[0m \u001b[1;2m \u001b[0m\u001b[1;2m   1584544\u001b[0m\u001b[1;2m \u001b[0m \u001b[1;33m \u001b[0m\u001b[1;33m      \u001b[0m\u001b[1;33m \u001b[0m \u001b[1;32m \u001b[0m\u001b[1;32m13D/A Centerbridge Credit Partners Ma…\u001b[0m\u001b[1;32m \u001b[0m \u001b[1m \u001b[0m\u001b[1m2024-12-17 \u001b[0m\u001b[1m \u001b[0m \u001b[1;2m \u001b[0m\u001b[1;2m0000895345-24-0006…\u001b[0m\u001b[1;2m \u001b[0m  \u001b[1;38;5;245m│\u001b[0m\n",
              "\u001b[1;38;5;245m│\u001b[0m   \u001b[1m \u001b[0m\u001b[1m13D/A  \u001b[0m\u001b[1m \u001b[0m \u001b[1;2m            \u001b[0m \u001b[1;33m        \u001b[0m \u001b[1;32m                                        \u001b[0m \u001b[1m             \u001b[0m \u001b[1;2m                     \u001b[0m  \u001b[1;38;5;245m│\u001b[0m\n",
              "\u001b[1;38;5;245m│\u001b[0m    SC       \u001b[2m \u001b[0m\u001b[2m   2027951\u001b[0m\u001b[2m \u001b[0m \u001b[33m \u001b[0m\u001b[33m      \u001b[0m\u001b[33m \u001b[0m \u001b[1;32m \u001b[0m\u001b[1;32m13D/A Cerberus Capital Management II,…\u001b[0m\u001b[1;32m \u001b[0m  2024-12-17   \u001b[2m \u001b[0m\u001b[2m0001011438-24-0007…\u001b[0m\u001b[2m \u001b[0m  \u001b[1;38;5;245m│\u001b[0m\n",
              "\u001b[1;38;5;245m│\u001b[0m    13D/A    \u001b[2m            \u001b[0m \u001b[33m        \u001b[0m \u001b[1;32m                                        \u001b[0m               \u001b[2m                     \u001b[0m  \u001b[1;38;5;245m│\u001b[0m\n",
              "\u001b[1;38;5;245m│\u001b[0m   \u001b[1m \u001b[0m\u001b[1mSC     \u001b[0m\u001b[1m \u001b[0m \u001b[1;2m \u001b[0m\u001b[1;2m   1709836\u001b[0m\u001b[1;2m \u001b[0m \u001b[1;33m \u001b[0m\u001b[1;33m      \u001b[0m\u001b[1;33m \u001b[0m \u001b[1;32m \u001b[0m\u001b[1;32m13D/A Deutsch Todd                    \u001b[0m\u001b[1;32m \u001b[0m \u001b[1m \u001b[0m\u001b[1m2024-12-17 \u001b[0m\u001b[1m \u001b[0m \u001b[1;2m \u001b[0m\u001b[1;2m0001193125-24-2804…\u001b[0m\u001b[1;2m \u001b[0m  \u001b[1;38;5;245m│\u001b[0m\n",
              "\u001b[1;38;5;245m│\u001b[0m   \u001b[1m \u001b[0m\u001b[1m13D/A  \u001b[0m\u001b[1m \u001b[0m \u001b[1;2m            \u001b[0m \u001b[1;33m        \u001b[0m \u001b[1;32m                                        \u001b[0m \u001b[1m             \u001b[0m \u001b[1;2m                     \u001b[0m  \u001b[1;38;5;245m│\u001b[0m\n",
              "\u001b[1;38;5;245m│\u001b[0m    SC       \u001b[2m \u001b[0m\u001b[2m   1805077\u001b[0m\u001b[2m \u001b[0m \u001b[33m \u001b[0m\u001b[33mEOSE  \u001b[0m\u001b[33m \u001b[0m \u001b[1;32m \u001b[0m\u001b[1;32m13D/A Eos Energy Enterprises, Inc.    \u001b[0m\u001b[1;32m \u001b[0m  2024-12-17   \u001b[2m \u001b[0m\u001b[2m0001011438-24-0007…\u001b[0m\u001b[2m \u001b[0m  \u001b[1;38;5;245m│\u001b[0m\n",
              "\u001b[1;38;5;245m│\u001b[0m    13D/A    \u001b[2m            \u001b[0m \u001b[33m        \u001b[0m \u001b[1;32m                                        \u001b[0m               \u001b[2m                     \u001b[0m  \u001b[1;38;5;245m│\u001b[0m\n",
              "\u001b[1;38;5;245m│\u001b[0m   \u001b[1m \u001b[0m\u001b[1mSC     \u001b[0m\u001b[1m \u001b[0m \u001b[1;2m \u001b[0m\u001b[1;2m    719402\u001b[0m\u001b[1;2m \u001b[0m \u001b[1;33m \u001b[0m\u001b[1;33mFXNC  \u001b[0m\u001b[1;33m \u001b[0m \u001b[1;32m \u001b[0m\u001b[1;32m13D/A FIRST NATIONAL CORP /VA/        \u001b[0m\u001b[1;32m \u001b[0m \u001b[1m \u001b[0m\u001b[1m2024-12-17 \u001b[0m\u001b[1m \u001b[0m \u001b[1;2m \u001b[0m\u001b[1;2m0001437749-24-0377…\u001b[0m\u001b[1;2m \u001b[0m  \u001b[1;38;5;245m│\u001b[0m\n",
              "\u001b[1;38;5;245m│\u001b[0m   \u001b[1m \u001b[0m\u001b[1m13D/A  \u001b[0m\u001b[1m \u001b[0m \u001b[1;2m            \u001b[0m \u001b[1;33m        \u001b[0m \u001b[1;32m                                        \u001b[0m \u001b[1m             \u001b[0m \u001b[1;2m                     \u001b[0m  \u001b[1;38;5;245m│\u001b[0m\n",
              "\u001b[1;38;5;245m│\u001b[0m    SC       \u001b[2m \u001b[0m\u001b[2m   1790169\u001b[0m\u001b[2m \u001b[0m \u001b[33m \u001b[0m\u001b[33mFLGC  \u001b[0m\u001b[33m \u001b[0m \u001b[1;32m \u001b[0m\u001b[1;32m13D/A Flora Growth Corp.              \u001b[0m\u001b[1;32m \u001b[0m  2024-12-17   \u001b[2m \u001b[0m\u001b[2m0001140361-24-0497…\u001b[0m\u001b[2m \u001b[0m  \u001b[1;38;5;245m│\u001b[0m\n",
              "\u001b[1;38;5;245m│\u001b[0m    13D/A    \u001b[2m            \u001b[0m \u001b[33m        \u001b[0m \u001b[1;32m                                        \u001b[0m               \u001b[2m                     \u001b[0m  \u001b[1;38;5;245m│\u001b[0m\n",
              "\u001b[1;38;5;245m│\u001b[0m   \u001b[1m \u001b[0m\u001b[1mSC     \u001b[0m\u001b[1m \u001b[0m \u001b[1;2m \u001b[0m\u001b[1;2m   1790169\u001b[0m\u001b[1;2m \u001b[0m \u001b[1;33m \u001b[0m\u001b[1;33mFLGC  \u001b[0m\u001b[1;33m \u001b[0m \u001b[1;32m \u001b[0m\u001b[1;32m13D/A Flora Growth Corp.              \u001b[0m\u001b[1;32m \u001b[0m \u001b[1m \u001b[0m\u001b[1m2024-12-17 \u001b[0m\u001b[1m \u001b[0m \u001b[1;2m \u001b[0m\u001b[1;2m0001140361-24-0497…\u001b[0m\u001b[1;2m \u001b[0m  \u001b[1;38;5;245m│\u001b[0m\n",
              "\u001b[1;38;5;245m│\u001b[0m   \u001b[1m \u001b[0m\u001b[1m13D/A  \u001b[0m\u001b[1m \u001b[0m \u001b[1;2m            \u001b[0m \u001b[1;33m        \u001b[0m \u001b[1;32m                                        \u001b[0m \u001b[1m             \u001b[0m \u001b[1;2m                     \u001b[0m  \u001b[1;38;5;245m│\u001b[0m\n",
              "\u001b[1;38;5;245m│\u001b[0m    SC       \u001b[2m \u001b[0m\u001b[2m   1823747\u001b[0m\u001b[2m \u001b[0m \u001b[33m \u001b[0m\u001b[33m      \u001b[0m\u001b[33m \u001b[0m \u001b[1;32m \u001b[0m\u001b[1;32m13D/A Forbion Capital Fund IV Coopera…\u001b[0m\u001b[1;32m \u001b[0m  2024-12-17   \u001b[2m \u001b[0m\u001b[2m0001193125-24-2804…\u001b[0m\u001b[2m \u001b[0m  \u001b[1;38;5;245m│\u001b[0m\n",
              "\u001b[1;38;5;245m│\u001b[0m    13D/A    \u001b[2m            \u001b[0m \u001b[33m        \u001b[0m \u001b[1;32m                                        \u001b[0m               \u001b[2m                     \u001b[0m  \u001b[1;38;5;245m│\u001b[0m\n",
              "\u001b[1;38;5;245m│\u001b[0m   \u001b[1m \u001b[0m\u001b[1mSC     \u001b[0m\u001b[1m \u001b[0m \u001b[1;2m \u001b[0m\u001b[1;2m   1790879\u001b[0m\u001b[1;2m \u001b[0m \u001b[1;33m \u001b[0m\u001b[1;33m      \u001b[0m\u001b[1;33m \u001b[0m \u001b[1;32m \u001b[0m\u001b[1;32m13D/A Frazier Life Sciences X, L.P.   \u001b[0m\u001b[1;32m \u001b[0m \u001b[1m \u001b[0m\u001b[1m2024-12-17 \u001b[0m\u001b[1m \u001b[0m \u001b[1;2m \u001b[0m\u001b[1;2m0001193125-24-2802…\u001b[0m\u001b[1;2m \u001b[0m  \u001b[1;38;5;245m│\u001b[0m\n",
              "\u001b[1;38;5;245m│\u001b[0m   \u001b[1m \u001b[0m\u001b[1m13D/A  \u001b[0m\u001b[1m \u001b[0m \u001b[1;2m            \u001b[0m \u001b[1;33m        \u001b[0m \u001b[1;32m                                        \u001b[0m \u001b[1m             \u001b[0m \u001b[1;2m                     \u001b[0m  \u001b[1;38;5;245m│\u001b[0m\n",
              "\u001b[1;38;5;245m│\u001b[0m    SC       \u001b[2m \u001b[0m\u001b[2m   1402258\u001b[0m\u001b[2m \u001b[0m \u001b[33m \u001b[0m\u001b[33m      \u001b[0m\u001b[33m \u001b[0m \u001b[1;32m \u001b[0m\u001b[1;32m13D/A Frischer Charles L              \u001b[0m\u001b[1;32m \u001b[0m  2024-12-17   \u001b[2m \u001b[0m\u001b[2m0001193805-24-0014…\u001b[0m\u001b[2m \u001b[0m  \u001b[1;38;5;245m│\u001b[0m\n",
              "\u001b[1;38;5;245m│\u001b[0m    13D/A    \u001b[2m            \u001b[0m \u001b[33m        \u001b[0m \u001b[1;32m                                        \u001b[0m               \u001b[2m                     \u001b[0m  \u001b[1;38;5;245m│\u001b[0m\n",
              "\u001b[1;38;5;245m│\u001b[0m   \u001b[1m \u001b[0m\u001b[1mSC     \u001b[0m\u001b[1m \u001b[0m \u001b[1;2m \u001b[0m\u001b[1;2m   1735707\u001b[0m\u001b[1;2m \u001b[0m \u001b[1;33m \u001b[0m\u001b[1;33mGTX   \u001b[0m\u001b[1;33m \u001b[0m \u001b[1;32m \u001b[0m\u001b[1;32m13D/A Garrett Motion Inc.             \u001b[0m\u001b[1;32m \u001b[0m \u001b[1m \u001b[0m\u001b[1m2024-12-17 \u001b[0m\u001b[1m \u001b[0m \u001b[1;2m \u001b[0m\u001b[1;2m0000895345-24-0006…\u001b[0m\u001b[1;2m \u001b[0m  \u001b[1;38;5;245m│\u001b[0m\n",
              "\u001b[1;38;5;245m│\u001b[0m   \u001b[1m \u001b[0m\u001b[1m13D/A  \u001b[0m\u001b[1m \u001b[0m \u001b[1;2m            \u001b[0m \u001b[1;33m        \u001b[0m \u001b[1;32m                                        \u001b[0m \u001b[1m             \u001b[0m \u001b[1;2m                     \u001b[0m  \u001b[1;38;5;245m│\u001b[0m\n",
              "\u001b[1;38;5;245m│\u001b[0m    SC       \u001b[2m \u001b[0m\u001b[2m   1783455\u001b[0m\u001b[2m \u001b[0m \u001b[33m \u001b[0m\u001b[33m      \u001b[0m\u001b[33m \u001b[0m \u001b[1;32m \u001b[0m\u001b[1;32m13D/A Gulf Hungary Holding Korlatolt …\u001b[0m\u001b[1;32m \u001b[0m  2024-12-17   \u001b[2m \u001b[0m\u001b[2m0001104659-24-1293…\u001b[0m\u001b[2m \u001b[0m  \u001b[1;38;5;245m│\u001b[0m\n",
              "\u001b[1;38;5;245m│\u001b[0m    13D/A    \u001b[2m            \u001b[0m \u001b[33m        \u001b[0m \u001b[1;32m                                        \u001b[0m               \u001b[2m                     \u001b[0m  \u001b[1;38;5;245m│\u001b[0m\n",
              "\u001b[1;38;5;245m│\u001b[0m   \u001b[1m \u001b[0m\u001b[1mSC     \u001b[0m\u001b[1m \u001b[0m \u001b[1;2m \u001b[0m\u001b[1;2m   2029760\u001b[0m\u001b[1;2m \u001b[0m \u001b[1;33m \u001b[0m\u001b[1;33m      \u001b[0m\u001b[1;33m \u001b[0m \u001b[1;32m \u001b[0m\u001b[1;32m13D/A Huang Jack Jiajia               \u001b[0m\u001b[1;32m \u001b[0m \u001b[1m \u001b[0m\u001b[1m2024-12-17 \u001b[0m\u001b[1m \u001b[0m \u001b[1;2m \u001b[0m\u001b[1;2m0001104659-24-1293…\u001b[0m\u001b[1;2m \u001b[0m  \u001b[1;38;5;245m│\u001b[0m\n",
              "\u001b[1;38;5;245m│\u001b[0m   \u001b[1m \u001b[0m\u001b[1m13D/A  \u001b[0m\u001b[1m \u001b[0m \u001b[1;2m            \u001b[0m \u001b[1;33m        \u001b[0m \u001b[1;32m                                        \u001b[0m \u001b[1m             \u001b[0m \u001b[1;2m                     \u001b[0m  \u001b[1;38;5;245m│\u001b[0m\n",
              "\u001b[1;38;5;245m│\u001b[0m    SC       \u001b[2m \u001b[0m\u001b[2m   2035272\u001b[0m\u001b[2m \u001b[0m \u001b[33m \u001b[0m\u001b[33m      \u001b[0m\u001b[33m \u001b[0m \u001b[1;32m \u001b[0m\u001b[1;32m13D/A Hummingbird STAR Trust          \u001b[0m\u001b[1;32m \u001b[0m  2024-12-17   \u001b[2m \u001b[0m\u001b[2m0001477932-24-0081…\u001b[0m\u001b[2m \u001b[0m  \u001b[1;38;5;245m│\u001b[0m\n",
              "\u001b[1;38;5;245m│\u001b[0m    13D/A    \u001b[2m            \u001b[0m \u001b[33m        \u001b[0m \u001b[1;32m                                        \u001b[0m               \u001b[2m                     \u001b[0m  \u001b[1;38;5;245m│\u001b[0m\n",
              "\u001b[1;38;5;245m│\u001b[0m   \u001b[1m \u001b[0m\u001b[1mSC     \u001b[0m\u001b[1m \u001b[0m \u001b[1;2m \u001b[0m\u001b[1;2m   1729637\u001b[0m\u001b[1;2m \u001b[0m \u001b[1;33m \u001b[0m\u001b[1;33mKARX  \u001b[0m\u001b[1;33m \u001b[0m \u001b[1;32m \u001b[0m\u001b[1;32m13D/A Karbon-X Corp.                  \u001b[0m\u001b[1;32m \u001b[0m \u001b[1m \u001b[0m\u001b[1m2024-12-17 \u001b[0m\u001b[1m \u001b[0m \u001b[1;2m \u001b[0m\u001b[1;2m0001477932-24-0081…\u001b[0m\u001b[1;2m \u001b[0m  \u001b[1;38;5;245m│\u001b[0m\n",
              "\u001b[1;38;5;245m│\u001b[0m   \u001b[1m \u001b[0m\u001b[1m13D/A  \u001b[0m\u001b[1m \u001b[0m \u001b[1;2m            \u001b[0m \u001b[1;33m        \u001b[0m \u001b[1;32m                                        \u001b[0m \u001b[1m             \u001b[0m \u001b[1;2m                     \u001b[0m  \u001b[1;38;5;245m│\u001b[0m\n",
              "\u001b[1;38;5;245m│\u001b[0m    SC       \u001b[2m \u001b[0m\u001b[2m   1571329\u001b[0m\u001b[2m \u001b[0m \u001b[33m \u001b[0m\u001b[33mLRFC  \u001b[0m\u001b[33m \u001b[0m \u001b[1;32m \u001b[0m\u001b[1;32m13D/A Logan Ridge Finance Corp.       \u001b[0m\u001b[1;32m \u001b[0m  2024-12-17   \u001b[2m \u001b[0m\u001b[2m0001193805-24-0014…\u001b[0m\u001b[2m \u001b[0m  \u001b[1;38;5;245m│\u001b[0m\n",
              "\u001b[1;38;5;245m│\u001b[0m    13D/A    \u001b[2m            \u001b[0m \u001b[33m        \u001b[0m \u001b[1;32m                                        \u001b[0m               \u001b[2m                     \u001b[0m  \u001b[1;38;5;245m│\u001b[0m\n",
              "\u001b[1;38;5;245m│\u001b[0m   \u001b[1m \u001b[0m\u001b[1mSC     \u001b[0m\u001b[1m \u001b[0m \u001b[1;2m \u001b[0m\u001b[1;2m   1618333\u001b[0m\u001b[1;2m \u001b[0m \u001b[1;33m \u001b[0m\u001b[1;33m      \u001b[0m\u001b[1;33m \u001b[0m \u001b[1;32m \u001b[0m\u001b[1;32m13D/A MAGNOLIA CAPITAL FUND, LP       \u001b[0m\u001b[1;32m \u001b[0m \u001b[1m \u001b[0m\u001b[1m2024-12-17 \u001b[0m\u001b[1m \u001b[0m \u001b[1;2m \u001b[0m\u001b[1;2m0001398344-24-0233…\u001b[0m\u001b[1;2m \u001b[0m  \u001b[1;38;5;245m│\u001b[0m\n",
              "\u001b[1;38;5;245m│\u001b[0m   \u001b[1m \u001b[0m\u001b[1m13D/A  \u001b[0m\u001b[1m \u001b[0m \u001b[1;2m            \u001b[0m \u001b[1;33m        \u001b[0m \u001b[1;32m                                        \u001b[0m \u001b[1m             \u001b[0m \u001b[1;2m                     \u001b[0m  \u001b[1;38;5;245m│\u001b[0m\n",
              "\u001b[1;38;5;245m│\u001b[0m    SC       \u001b[2m \u001b[0m\u001b[2m   1802450\u001b[0m\u001b[2m \u001b[0m \u001b[33m \u001b[0m\u001b[33mMSPR  \u001b[0m\u001b[33m \u001b[0m \u001b[1;32m \u001b[0m\u001b[1;32m13D/A MSP Recovery, Inc.              \u001b[0m\u001b[1;32m \u001b[0m  2024-12-17   \u001b[2m \u001b[0m\u001b[2m0000950170-24-1371…\u001b[0m\u001b[2m \u001b[0m  \u001b[1;38;5;245m│\u001b[0m\n",
              "\u001b[1;38;5;245m│\u001b[0m    13D/A    \u001b[2m            \u001b[0m \u001b[33m        \u001b[0m \u001b[1;32m                                        \u001b[0m               \u001b[2m                     \u001b[0m  \u001b[1;38;5;245m│\u001b[0m\n",
              "\u001b[1;38;5;245m│\u001b[0m   \u001b[1m \u001b[0m\u001b[1mSC     \u001b[0m\u001b[1m \u001b[0m \u001b[1;2m \u001b[0m\u001b[1;2m   1645469\u001b[0m\u001b[1;2m \u001b[0m \u001b[1;33m \u001b[0m\u001b[1;33mMNPR  \u001b[0m\u001b[1;33m \u001b[0m \u001b[1;32m \u001b[0m\u001b[1;32m13D/A Monopar Therapeutics            \u001b[0m\u001b[1;32m \u001b[0m \u001b[1m \u001b[0m\u001b[1m2024-12-17 \u001b[0m\u001b[1m \u001b[0m \u001b[1;2m \u001b[0m\u001b[1;2m0001437749-24-0377…\u001b[0m\u001b[1;2m \u001b[0m  \u001b[1;38;5;245m│\u001b[0m\n",
              "\u001b[1;38;5;245m│\u001b[0m   \u001b[1m \u001b[0m\u001b[1m13D/A  \u001b[0m\u001b[1m \u001b[0m \u001b[1;2m            \u001b[0m \u001b[1;33m        \u001b[0m \u001b[1;32m                                        \u001b[0m \u001b[1m             \u001b[0m \u001b[1;2m                     \u001b[0m  \u001b[1;38;5;245m│\u001b[0m\n",
              "\u001b[1;38;5;245m│\u001b[0m    SC       \u001b[2m \u001b[0m\u001b[2m    789933\u001b[0m\u001b[2m \u001b[0m \u001b[33m \u001b[0m\u001b[33mNC    \u001b[0m\u001b[33m \u001b[0m \u001b[1;32m \u001b[0m\u001b[1;32m13D/A NACCO INDUSTRIES INC            \u001b[0m\u001b[1;32m \u001b[0m  2024-12-17   \u001b[2m \u001b[0m\u001b[2m0001193125-24-2804…\u001b[0m\u001b[2m \u001b[0m  \u001b[1;38;5;245m│\u001b[0m\n",
              "\u001b[1;38;5;245m│\u001b[0m    13D/A    \u001b[2m            \u001b[0m \u001b[33m        \u001b[0m \u001b[1;32m                                        \u001b[0m               \u001b[2m                     \u001b[0m  \u001b[1;38;5;245m│\u001b[0m\n",
              "\u001b[1;38;5;245m│\u001b[0m   \u001b[1m \u001b[0m\u001b[1mSC     \u001b[0m\u001b[1m \u001b[0m \u001b[1;2m \u001b[0m\u001b[1;2m    789933\u001b[0m\u001b[1;2m \u001b[0m \u001b[1;33m \u001b[0m\u001b[1;33mNC    \u001b[0m\u001b[1;33m \u001b[0m \u001b[1;32m \u001b[0m\u001b[1;32m13D/A NACCO INDUSTRIES INC            \u001b[0m\u001b[1;32m \u001b[0m \u001b[1m \u001b[0m\u001b[1m2024-12-17 \u001b[0m\u001b[1m \u001b[0m \u001b[1;2m \u001b[0m\u001b[1;2m0001193125-24-2804…\u001b[0m\u001b[1;2m \u001b[0m  \u001b[1;38;5;245m│\u001b[0m\n",
              "\u001b[1;38;5;245m│\u001b[0m   \u001b[1m \u001b[0m\u001b[1m13D/A  \u001b[0m\u001b[1m \u001b[0m \u001b[1;2m            \u001b[0m \u001b[1;33m        \u001b[0m \u001b[1;32m                                        \u001b[0m \u001b[1m             \u001b[0m \u001b[1;2m                     \u001b[0m  \u001b[1;38;5;245m│\u001b[0m\n",
              "\u001b[1;38;5;245m│\u001b[0m    SC       \u001b[2m \u001b[0m\u001b[2m    789933\u001b[0m\u001b[2m \u001b[0m \u001b[33m \u001b[0m\u001b[33mNC    \u001b[0m\u001b[33m \u001b[0m \u001b[1;32m \u001b[0m\u001b[1;32m13D/A NACCO INDUSTRIES INC            \u001b[0m\u001b[1;32m \u001b[0m  2024-12-17   \u001b[2m \u001b[0m\u001b[2m0001193125-24-2804…\u001b[0m\u001b[2m \u001b[0m  \u001b[1;38;5;245m│\u001b[0m\n",
              "\u001b[1;38;5;245m│\u001b[0m    13D/A    \u001b[2m            \u001b[0m \u001b[33m        \u001b[0m \u001b[1;32m                                        \u001b[0m               \u001b[2m                     \u001b[0m  \u001b[1;38;5;245m│\u001b[0m\n",
              "\u001b[1;38;5;245m│\u001b[0m   \u001b[1m \u001b[0m\u001b[1mSC     \u001b[0m\u001b[1m \u001b[0m \u001b[1;2m \u001b[0m\u001b[1;2m   1936258\u001b[0m\u001b[1;2m \u001b[0m \u001b[1;33m \u001b[0m\u001b[1;33mNAMS  \u001b[0m\u001b[1;33m \u001b[0m \u001b[1;32m \u001b[0m\u001b[1;32m13D/A NewAmsterdam Pharma Co N.V.     \u001b[0m\u001b[1;32m \u001b[0m \u001b[1m \u001b[0m\u001b[1m2024-12-17 \u001b[0m\u001b[1m \u001b[0m \u001b[1;2m \u001b[0m\u001b[1;2m0001193125-24-2802…\u001b[0m\u001b[1;2m \u001b[0m  \u001b[1;38;5;245m│\u001b[0m\n",
              "\u001b[1;38;5;245m│\u001b[0m   \u001b[1m \u001b[0m\u001b[1m13D/A  \u001b[0m\u001b[1m \u001b[0m \u001b[1;2m            \u001b[0m \u001b[1;33m        \u001b[0m \u001b[1;32m                                        \u001b[0m \u001b[1m             \u001b[0m \u001b[1;2m                     \u001b[0m  \u001b[1;38;5;245m│\u001b[0m\n",
              "\u001b[1;38;5;245m│\u001b[0m    SC       \u001b[2m \u001b[0m\u001b[2m   1936258\u001b[0m\u001b[2m \u001b[0m \u001b[33m \u001b[0m\u001b[33mNAMS  \u001b[0m\u001b[33m \u001b[0m \u001b[1;32m \u001b[0m\u001b[1;32m13D/A NewAmsterdam Pharma Co N.V.     \u001b[0m\u001b[1;32m \u001b[0m  2024-12-17   \u001b[2m \u001b[0m\u001b[2m0001193125-24-2804…\u001b[0m\u001b[2m \u001b[0m  \u001b[1;38;5;245m│\u001b[0m\n",
              "\u001b[1;38;5;245m│\u001b[0m    13D/A    \u001b[2m            \u001b[0m \u001b[33m        \u001b[0m \u001b[1;32m                                        \u001b[0m               \u001b[2m                     \u001b[0m  \u001b[1;38;5;245m│\u001b[0m\n",
              "\u001b[1;38;5;245m│\u001b[0m   \u001b[1m \u001b[0m\u001b[1mSC     \u001b[0m\u001b[1m \u001b[0m \u001b[1;2m \u001b[0m\u001b[1;2m   1936258\u001b[0m\u001b[1;2m \u001b[0m \u001b[1;33m \u001b[0m\u001b[1;33mNAMS  \u001b[0m\u001b[1;33m \u001b[0m \u001b[1;32m \u001b[0m\u001b[1;32m13D/A NewAmsterdam Pharma Co N.V.     \u001b[0m\u001b[1;32m \u001b[0m \u001b[1m \u001b[0m\u001b[1m2024-12-17 \u001b[0m\u001b[1m \u001b[0m \u001b[1;2m \u001b[0m\u001b[1;2m0001193125-24-2805…\u001b[0m\u001b[1;2m \u001b[0m  \u001b[1;38;5;245m│\u001b[0m\n",
              "\u001b[1;38;5;245m│\u001b[0m   \u001b[1m \u001b[0m\u001b[1m13D/A  \u001b[0m\u001b[1m \u001b[0m \u001b[1;2m            \u001b[0m \u001b[1;33m        \u001b[0m \u001b[1;32m                                        \u001b[0m \u001b[1m             \u001b[0m \u001b[1;2m                     \u001b[0m  \u001b[1;38;5;245m│\u001b[0m\n",
              "\u001b[1;38;5;245m│\u001b[0m    SC       \u001b[2m \u001b[0m\u001b[2m   1474627\u001b[0m\u001b[2m \u001b[0m \u001b[33m \u001b[0m\u001b[33mNEGG  \u001b[0m\u001b[33m \u001b[0m \u001b[1;32m \u001b[0m\u001b[1;32m13D/A Newegg Commerce, Inc.           \u001b[0m\u001b[1;32m \u001b[0m  2024-12-17   \u001b[2m \u001b[0m\u001b[2m0001477932-24-0081…\u001b[0m\u001b[2m \u001b[0m  \u001b[1;38;5;245m│\u001b[0m\n",
              "\u001b[1;38;5;245m│\u001b[0m    13D/A    \u001b[2m            \u001b[0m \u001b[33m        \u001b[0m \u001b[1;32m                                        \u001b[0m               \u001b[2m                     \u001b[0m  \u001b[1;38;5;245m│\u001b[0m\n",
              "\u001b[1;38;5;245m│\u001b[0m   \u001b[1m \u001b[0m\u001b[1mSC     \u001b[0m\u001b[1m \u001b[0m \u001b[1;2m \u001b[0m\u001b[1;2m   1851865\u001b[0m\u001b[1;2m \u001b[0m \u001b[1;33m \u001b[0m\u001b[1;33m      \u001b[0m\u001b[1;33m \u001b[0m \u001b[1;32m \u001b[0m\u001b[1;32m13D/A Novator Capital Sponsor Ltd.    \u001b[0m\u001b[1;32m \u001b[0m \u001b[1m \u001b[0m\u001b[1m2024-12-17 \u001b[0m\u001b[1m \u001b[0m \u001b[1;2m \u001b[0m\u001b[1;2m0001104659-24-1295…\u001b[0m\u001b[1;2m \u001b[0m  \u001b[1;38;5;245m│\u001b[0m\n",
              "\u001b[1;38;5;245m│\u001b[0m   \u001b[1m \u001b[0m\u001b[1m13D/A  \u001b[0m\u001b[1m \u001b[0m \u001b[1;2m            \u001b[0m \u001b[1;33m        \u001b[0m \u001b[1;32m                                        \u001b[0m \u001b[1m             \u001b[0m \u001b[1;2m                     \u001b[0m  \u001b[1;38;5;245m│\u001b[0m\n",
              "\u001b[1;38;5;245m│\u001b[0m    SC       \u001b[2m \u001b[0m\u001b[2m   1000045\u001b[0m\u001b[2m \u001b[0m \u001b[33m \u001b[0m\u001b[33mNICK  \u001b[0m\u001b[33m \u001b[0m \u001b[1;32m \u001b[0m\u001b[1;32m13D/A OLD MARKET CAPITAL Corp         \u001b[0m\u001b[1;32m \u001b[0m  2024-12-17   \u001b[2m \u001b[0m\u001b[2m0001398344-24-0233…\u001b[0m\u001b[2m \u001b[0m  \u001b[1;38;5;245m│\u001b[0m\n",
              "\u001b[1;38;5;245m│\u001b[0m    13D/A    \u001b[2m            \u001b[0m \u001b[33m        \u001b[0m \u001b[1;32m                                        \u001b[0m               \u001b[2m                     \u001b[0m  \u001b[1;38;5;245m│\u001b[0m\n",
              "\u001b[1;38;5;245m│\u001b[0m   \u001b[1m \u001b[0m\u001b[1mSC     \u001b[0m\u001b[1m \u001b[0m \u001b[1;2m \u001b[0m\u001b[1;2m   1875084\u001b[0m\u001b[1;2m \u001b[0m \u001b[1;33m \u001b[0m\u001b[1;33m      \u001b[0m\u001b[1;33m \u001b[0m \u001b[1;32m \u001b[0m\u001b[1;32m13D/A PGIM Private Real Estate Fund, …\u001b[0m\u001b[1;32m \u001b[0m \u001b[1m \u001b[0m\u001b[1m2024-12-17 \u001b[0m\u001b[1m \u001b[0m \u001b[1;2m \u001b[0m\u001b[1;2m0001104659-24-1293…\u001b[0m\u001b[1;2m \u001b[0m  \u001b[1;38;5;245m│\u001b[0m\n",
              "\u001b[1;38;5;245m│\u001b[0m   \u001b[1m \u001b[0m\u001b[1m13D/A  \u001b[0m\u001b[1m \u001b[0m \u001b[1;2m            \u001b[0m \u001b[1;33m        \u001b[0m \u001b[1;32m                                        \u001b[0m \u001b[1m             \u001b[0m \u001b[1;2m                     \u001b[0m  \u001b[1;38;5;245m│\u001b[0m\n",
              "\u001b[1;38;5;245m│\u001b[0m    SC       \u001b[2m \u001b[0m\u001b[2m   1972703\u001b[0m\u001b[2m \u001b[0m \u001b[33m \u001b[0m\u001b[33m      \u001b[0m\u001b[33m \u001b[0m \u001b[1;32m \u001b[0m\u001b[1;32m13D/A PGIM Strategic Investments, Inc.\u001b[0m\u001b[1;32m \u001b[0m  2024-12-17   \u001b[2m \u001b[0m\u001b[2m0001104659-24-1293…\u001b[0m\u001b[2m \u001b[0m  \u001b[1;38;5;245m│\u001b[0m\n",
              "\u001b[1;38;5;245m│\u001b[0m    13D/A    \u001b[2m            \u001b[0m \u001b[33m        \u001b[0m \u001b[1;32m                                        \u001b[0m               \u001b[2m                     \u001b[0m  \u001b[1;38;5;245m│\u001b[0m\n",
              "\u001b[1;38;5;245m│\u001b[0m   \u001b[1m \u001b[0m\u001b[1mSC     \u001b[0m\u001b[1m \u001b[0m \u001b[1;2m \u001b[0m\u001b[1;2m     81362\u001b[0m\u001b[1;2m \u001b[0m \u001b[1;33m \u001b[0m\u001b[1;33mKWR   \u001b[0m\u001b[1;33m \u001b[0m \u001b[1;32m \u001b[0m\u001b[1;32m13D/A QUAKER CHEMICAL CORP            \u001b[0m\u001b[1;32m \u001b[0m \u001b[1m \u001b[0m\u001b[1m2024-12-17 \u001b[0m\u001b[1m \u001b[0m \u001b[1;2m \u001b[0m\u001b[1;2m0001104659-24-1293…\u001b[0m\u001b[1;2m \u001b[0m  \u001b[1;38;5;245m│\u001b[0m\n",
              "\u001b[1;38;5;245m│\u001b[0m   \u001b[1m \u001b[0m\u001b[1m13D/A  \u001b[0m\u001b[1m \u001b[0m \u001b[1;2m            \u001b[0m \u001b[1;33m        \u001b[0m \u001b[1;32m                                        \u001b[0m \u001b[1m             \u001b[0m \u001b[1;2m                     \u001b[0m  \u001b[1;38;5;245m│\u001b[0m\n",
              "\u001b[1;38;5;245m│\u001b[0m                                                                                                                 \u001b[1;38;5;245m│\u001b[0m\n",
              "\u001b[1;38;5;245m│\u001b[0m                                                                                                                 \u001b[1;38;5;245m│\u001b[0m\n",
              "\u001b[1;38;5;245m│\u001b[0m                                                                                                                 \u001b[1;38;5;245m│\u001b[0m\n",
              "\u001b[1;38;5;245m│\u001b[0m \u001b[2mShowing \u001b[0m\u001b[1;31m1\u001b[0m\u001b[2m to \u001b[0m\u001b[1;31m50\u001b[0m\u001b[2m of \u001b[0m\u001b[1m11,303\u001b[0m\u001b[2m filings.\u001b[0m\u001b[2m Page using \u001b[0m\u001b[1;38;5;245m← prev()\u001b[0m\u001b[2m and \u001b[0m\u001b[1;38;5;245mnext() →\u001b[0m                                             \u001b[1;38;5;245m│\u001b[0m\n",
              "\u001b[1;38;5;245m╰─\u001b[0m\u001b[1;38;5;245m────────────────────────────────\u001b[0m\u001b[1;38;5;245m SEC Filings between 2024-01-02 and 2024-12-31 \u001b[0m\u001b[1;38;5;245m────────────────────────────────\u001b[0m\u001b[1;38;5;245m─╯\u001b[0m"
            ]
          },
          "metadata": {},
          "execution_count": 20
        }
      ]
    },
    {
      "cell_type": "code",
      "source": [
        "# 하나를 예시로 보기\n",
        "filing = filings[60]\n",
        "filing\n",
        "\n",
        "# Primary Document를 클릭하면 됨"
      ],
      "metadata": {
        "colab": {
          "base_uri": "https://localhost:8080/",
          "height": 237
        },
        "id": "gvcB7lgDAax3",
        "outputId": "fdf99d58-8782-4310-80ff-cd1eed38fb4b"
      },
      "execution_count": 22,
      "outputs": [
        {
          "output_type": "display_data",
          "data": {
            "text/plain": [],
            "text/html": [
              "<pre style=\"white-space:pre;overflow-x:auto;line-height:normal;font-family:Menlo,'DejaVu Sans Mono',consolas,'Courier New',monospace\"></pre>\n"
            ]
          },
          "metadata": {}
        },
        {
          "output_type": "execute_result",
          "data": {
            "text/plain": [
              "╭───────────────────────────────\u001b[1m 13D/A Vitesse Energy, Inc. [1944558] SC 13D/A 📄 \u001b[0m────────────────────────────────╮\n",
              "│ ╭──────────────────────┬────────────╮                                                                           │\n",
              "│ │\u001b[1;38;5;39m \u001b[0m\u001b[1;38;5;39m0001140361-24-049739\u001b[0m\u001b[1;38;5;39m \u001b[0m│ 2024-12-17 │                                                                           │\n",
              "│ ╰──────────────────────┴────────────╯                                                                           │\n",
              "│ ╭────────────────────────────────────────────────────────────────────────────────────────────╮                  │\n",
              "│ │\u001b[1m \u001b[0m\u001b[1mLinks\u001b[0m\u001b[1m: 🏠 Homepage 📄 Primary Document 📜 Full Submission Text                            \u001b[0m\u001b[1m \u001b[0m│                  │\n",
              "│ ├────────────────────────────────────────────────────────────────────────────────────────────┤                  │\n",
              "│ │ 🏠 https://sec.gov/Archives/edgar/data/1944558/0001140361-24-049739-index.html             │                  │\n",
              "│ │ 📄 https://sec.gov/Archives/edgar/data/924255/000114036124049739/ef20040297_sc13da.htm     │                  │\n",
              "│ │ 📜 https://sec.gov/Archives/edgar/data/1944558/000114036124049739/0001140361-24-049739.txt │                  │\n",
              "│ ╰────────────────────────────────────────────────────────────────────────────────────────────╯                  │\n",
              "╰──────────────────────────── Form SC 13D Amendment: Ownership for control disclosure ────────────────────────────╯"
            ]
          },
          "metadata": {},
          "execution_count": 22
        }
      ]
    },
    {
      "cell_type": "code",
      "source": [],
      "metadata": {
        "id": "7Cklm_mxARtZ"
      },
      "execution_count": null,
      "outputs": []
    }
  ],
  "metadata": {
    "colab": {
      "provenance": [],
      "toc_visible": true,
      "authorship_tag": "ABX9TyMBzVOv/UB6wwGLloSRz9OQ",
      "include_colab_link": true
    },
    "kernelspec": {
      "display_name": "Python 3",
      "name": "python3"
    },
    "language_info": {
      "name": "python"
    }
  },
  "nbformat": 4,
  "nbformat_minor": 0
}